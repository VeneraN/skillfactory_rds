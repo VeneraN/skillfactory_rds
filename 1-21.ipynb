{
 "cells": [
  {
   "cell_type": "code",
   "execution_count": 1,
   "metadata": {},
   "outputs": [
    {
     "name": "stdout",
     "output_type": "stream",
     "text": [
      "Идёт итерация цикла  № 1\n",
      "Идёт итерация цикла  № 2\n",
      "Выполнение цикла закончено\n"
     ]
    }
   ],
   "source": [
    "for i in range(5):\n",
    "    i = i+1\n",
    "    if i == 3:\n",
    "        break\n",
    "    print('Идёт итерация цикла  №', i)\n",
    "print('Выполнение цикла закончено')\n"
   ]
  },
  {
   "cell_type": "code",
   "execution_count": 2,
   "metadata": {},
   "outputs": [
    {
     "name": "stdout",
     "output_type": "stream",
     "text": [
      "Идёт итерация цикла  № 1\n",
      "Идёт итерация цикла  № 2\n",
      "Идёт итерация цикла  № 4\n",
      "Идёт итерация цикла  № 5\n",
      "Выполнение цикла закончено\n"
     ]
    }
   ],
   "source": [
    "for i in range(5):\n",
    "    i = i+1\n",
    "    if i == 3:\n",
    "        continue\n",
    "    print('Идёт итерация цикла  №', i)\n",
    "print('Выполнение цикла закончено')"
   ]
  },
  {
   "cell_type": "code",
   "execution_count": 22,
   "metadata": {},
   "outputs": [
    {
     "name": "stdout",
     "output_type": "stream",
     "text": [
      "1812\n",
      "2500\n",
      "4\n"
     ]
    }
   ],
   "source": [
    "num_1 = int(input())\n",
    "num_2 = int(input())\n",
    "\n",
    "if num_1<num_2:\n",
    "    x=num_1\n",
    "else: x=num_2\n",
    "max=0\n",
    "for i in range(2,x+1):\n",
    "    if num_1%i==0 and num_2%i==0:\n",
    "        max=i\n",
    "        continue\n",
    "if max>0:\n",
    "    print(max)\n",
    "else: print('Общих делителей не найдено')"
   ]
  },
  {
   "cell_type": "code",
   "execution_count": 16,
   "metadata": {},
   "outputs": [
    {
     "name": "stdout",
     "output_type": "stream",
     "text": [
      "венера\n",
      "енер"
     ]
    }
   ],
   "source": [
    "string = input()\n",
    "for i,letter in enumerate(string):\n",
    "    if letter=='а' or letter=='б' or letter=='в':\n",
    "        continue\n",
    "    print(letter, end='')"
   ]
  },
  {
   "cell_type": "code",
   "execution_count": 13,
   "metadata": {},
   "outputs": [
    {
     "name": "stdout",
     "output_type": "stream",
     "text": [
      "Любите ли вы Python?\n",
      "\n",
      "ну\n",
      "Увы, это неправильный ответ\n",
      "Любите ли вы Python?\n",
      "\n",
      "не\n",
      "Увы, это неправильный ответ\n",
      "Любите ли вы Python?\n",
      "\n",
      "мм\n",
      "Увы, это неправильный ответ\n",
      "Любите ли вы Python?\n",
      "\n",
      "щщ\n",
      "Увы, это неправильный ответ\n",
      "Любите ли вы Python?\n",
      "\n",
      "ээ\n",
      "Увы, это неправильный ответ\n",
      "Это безнадёжно!\n"
     ]
    }
   ],
   "source": [
    "for i in range(5):\n",
    "    print('Любите ли вы Python?\\n')\n",
    "    string=input()\n",
    "    if string=='Да':\n",
    "        print('Это отлично!')\n",
    "        break\n",
    "    else: print('Увы, это неправильный ответ')\n",
    "else: print('Это безнадёжно!')"
   ]
  },
  {
   "cell_type": "code",
   "execution_count": 9,
   "metadata": {},
   "outputs": [
    {
     "name": "stdout",
     "output_type": "stream",
     "text": [
      "173\n",
      "Простое\n"
     ]
    }
   ],
   "source": [
    "number=int(input())\n",
    "if number>1:\n",
    "    for i in range(2,number):\n",
    "        if number%i==0:\n",
    "            print('Не является простым',i)\n",
    "            break\n",
    "    else: print('Простое')\n",
    "else: print('Не является простым')"
   ]
  },
  {
   "cell_type": "code",
   "execution_count": 5,
   "metadata": {},
   "outputs": [
    {
     "name": "stdout",
     "output_type": "stream",
     "text": [
      "fre\n",
      "Какая хорошая строка!\n"
     ]
    }
   ],
   "source": [
    "string=input()\n",
    "for i,letter in enumerate(string):\n",
    "    if i%2==0:\n",
    "        if letter=='а' or letter=='о' or letter=='э' or letter=='я' or letter=='и' or letter=='ю' or letter=='ы' or letter=='у' or letter=='е' or letter=='ё':\n",
    "            print('Строка мне не нравится!')\n",
    "            break\n",
    "else: print('Какая хорошая строка!')        "
   ]
  }
 ],
 "metadata": {
  "kernelspec": {
   "display_name": "Python 3",
   "language": "python",
   "name": "python3"
  },
  "language_info": {
   "codemirror_mode": {
    "name": "ipython",
    "version": 3
   },
   "file_extension": ".py",
   "mimetype": "text/x-python",
   "name": "python",
   "nbconvert_exporter": "python",
   "pygments_lexer": "ipython3",
   "version": "3.7.4"
  }
 },
 "nbformat": 4,
 "nbformat_minor": 4
}
