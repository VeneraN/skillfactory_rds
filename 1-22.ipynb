{
 "cells": [
  {
   "cell_type": "code",
   "execution_count": 1,
   "metadata": {},
   "outputs": [
    {
     "name": "stdout",
     "output_type": "stream",
     "text": [
      "Деньги удвоятся через 12 лет\n"
     ]
    }
   ],
   "source": [
    "money = 1\n",
    "year = 0\n",
    "yearly_multiplier = 1.06\n",
    "\n",
    "while money < 2:\n",
    "    money = money*yearly_multiplier\n",
    "    year += 1\n",
    "else:\n",
    "    print('Деньги удвоятся через', year, 'лет')"
   ]
  },
  {
   "cell_type": "code",
   "execution_count": 2,
   "metadata": {},
   "outputs": [
    {
     "name": "stdout",
     "output_type": "stream",
     "text": [
      "Что хочу, то и делаю!\n",
      "Что хочу, то и делаю!\n",
      "Что хочу, то и делаю!\n",
      "Что хочу, то и делаю!\n"
     ]
    }
   ],
   "source": [
    "counter=0\n",
    "while 1: #Условие верно всегда\n",
    "    print('Что хочу, то и делаю!')\n",
    "    counter += 1\n",
    "    if counter > 3:\n",
    "        break"
   ]
  },
  {
   "cell_type": "code",
   "execution_count": 3,
   "metadata": {},
   "outputs": [
    {
     "name": "stdout",
     "output_type": "stream",
     "text": [
      "7687\n",
      "89989\n",
      "26\n"
     ]
    }
   ],
   "source": [
    "Y = int(input())\n",
    "Z = int(input())\n",
    "#Y = 170000\n",
    "#Z = 1000000\n",
    "i=0\n",
    "while Y<Z:\n",
    "    Y=Y*1.10\n",
    "    i+=1\n",
    "else: print(i) "
   ]
  },
  {
   "cell_type": "code",
   "execution_count": 4,
   "metadata": {},
   "outputs": [
    {
     "name": "stdout",
     "output_type": "stream",
     "text": [
      "77\n",
      "Перевес 15.0 кг\n"
     ]
    }
   ],
   "source": [
    "total_weight=400\n",
    "weight=float(input())\n",
    "while round(total_weight-weight)>0:\n",
    "    total_weight-=weight\n",
    "else: print('Перевес', total_weight, 'кг') "
   ]
  },
  {
   "cell_type": "code",
   "execution_count": 5,
   "metadata": {},
   "outputs": [
    {
     "name": "stdout",
     "output_type": "stream",
     "text": [
      "80\n",
      "500\n",
      "7\n"
     ]
    }
   ],
   "source": [
    "attack=int(input()) \n",
    "current_health=int(input()) \n",
    "i=0\n",
    "while current_health>0:\n",
    "    current_health=current_health-attack\n",
    "    i+=1\n",
    "else: print(i)"
   ]
  },
  {
   "cell_type": "code",
   "execution_count": 6,
   "metadata": {},
   "outputs": [
    {
     "name": "stdout",
     "output_type": "stream",
     "text": [
      "10000\n",
      "2800\n",
      "10000\n",
      "7200\n",
      "4400\n",
      "1600\n",
      "Слишком большие расходы\n"
     ]
    }
   ],
   "source": [
    "balance=int(input())\n",
    "spent=int(input())\n",
    "print(balance)\n",
    "while (balance-spent)>0:    \n",
    "    balance=balance-spent\n",
    "    print(balance)\n",
    "else: print('Слишком большие расходы')"
   ]
  },
  {
   "cell_type": "code",
   "execution_count": 9,
   "metadata": {},
   "outputs": [
    {
     "name": "stdout",
     "output_type": "stream",
     "text": [
      "100\n",
      "95\n",
      "85\n",
      "70\n",
      "50\n",
      "25\n",
      "6\n"
     ]
    }
   ],
   "source": [
    "volume=int(input()) \n",
    "i=1\n",
    "while 5*i<volume:    \n",
    "    volume=volume-5*i\n",
    "    i+=1\n",
    "    print(volume)\n",
    "else: print(i) "
   ]
  },
  {
   "cell_type": "code",
   "execution_count": null,
   "metadata": {},
   "outputs": [],
   "source": []
  }
 ],
 "metadata": {
  "kernelspec": {
   "display_name": "Python 3",
   "language": "python",
   "name": "python3"
  },
  "language_info": {
   "codemirror_mode": {
    "name": "ipython",
    "version": 3
   },
   "file_extension": ".py",
   "mimetype": "text/x-python",
   "name": "python",
   "nbconvert_exporter": "python",
   "pygments_lexer": "ipython3",
   "version": "3.7.4"
  }
 },
 "nbformat": 4,
 "nbformat_minor": 4
}
