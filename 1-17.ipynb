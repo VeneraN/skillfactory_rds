{
 "cells": [
  {
   "cell_type": "code",
   "execution_count": 3,
   "metadata": {},
   "outputs": [
    {
     "name": "stdout",
     "output_type": "stream",
     "text": [
      "9\n",
      "wrong number\n"
     ]
    }
   ],
   "source": [
    "number = int(input())\n",
    "\n",
    "if 0<number<8:\n",
    "    if number==1:\n",
    "        print('понедельник')\n",
    "    elif number==2:\n",
    "        print('вторник')\n",
    "    elif number==3:\n",
    "        print('среда')\n",
    "    elif number==4:\n",
    "        print('четверг')\n",
    "    elif number==5:\n",
    "        print('пятница')\n",
    "    elif number==6:\n",
    "        print('суббота')\n",
    "    else: print('воскресенье')\n",
    "else: print ('wrong number')"
   ]
  },
  {
   "cell_type": "code",
   "execution_count": 19,
   "metadata": {},
   "outputs": [
    {
     "name": "stdout",
     "output_type": "stream",
     "text": [
      "80.984\n",
      "1.8\n",
      "24.995061728395058\n",
      "Избыточная масса тела\n"
     ]
    }
   ],
   "source": [
    "weight = float(input())\n",
    "height = float(input())\n",
    "\n",
    "imt=weight/(height**2)\n",
    "print(imt)\n",
    "if round(imt,1)<18.5:\n",
    "    print('Недостаточная масса тела')\n",
    "elif round(imt,2)>24.99:\n",
    "    print('Избыточная масса тела')\n",
    "else: print('Норма')"
   ]
  },
  {
   "cell_type": "code",
   "execution_count": 24,
   "metadata": {},
   "outputs": [
    {
     "name": "stdout",
     "output_type": "stream",
     "text": [
      "7\n",
      "хорошо\n"
     ]
    }
   ],
   "source": [
    "mark=int(input())\n",
    "\n",
    "if 0<mark<11:\n",
    "    if mark<4:\n",
    "        print('неудовлетворительно')\n",
    "    elif mark<6:\n",
    "        print('удовлетворительно')\n",
    "    elif mark<8:\n",
    "        print('хорошо')\n",
    "    else: print('отлично')\n",
    "else: print('wrong mark')"
   ]
  },
  {
   "cell_type": "code",
   "execution_count": 28,
   "metadata": {},
   "outputs": [
    {
     "name": "stdout",
     "output_type": "stream",
     "text": [
      "2500\n",
      "Эх, только фастфуд.\n"
     ]
    }
   ],
   "source": [
    "balance = float(input())\n",
    "\n",
    "if balance>=5000:\n",
    "    print('Сегодня твой выбор - ресторан!')\n",
    "elif balance<2500:\n",
    "    print('Придётся потерпеть!')\n",
    "else: print ('Эх, только фастфуд.')"
   ]
  },
  {
   "cell_type": "code",
   "execution_count": 32,
   "metadata": {},
   "outputs": [
    {
     "name": "stdout",
     "output_type": "stream",
     "text": [
      "31\n",
      "Число не делится ни на 2, ни на 3, ни на 5 без остатка!\n"
     ]
    }
   ],
   "source": [
    "number =int(input())\n",
    "\n",
    "if number%2==0:\n",
    "    print('Число делится на 2 без остатка.')\n",
    "elif number%3==0:\n",
    "    print('Число делится на 3 без остатка.')\n",
    "elif number%5==0:\n",
    "    print('Число делится на 5 без остатка.')\n",
    "else: print('Число не делится ни на 2, ни на 3, ни на 5 без остатка!')"
   ]
  },
  {
   "cell_type": "code",
   "execution_count": null,
   "metadata": {},
   "outputs": [],
   "source": []
  }
 ],
 "metadata": {
  "kernelspec": {
   "display_name": "Python 3",
   "language": "python",
   "name": "python3"
  },
  "language_info": {
   "codemirror_mode": {
    "name": "ipython",
    "version": 3
   },
   "file_extension": ".py",
   "mimetype": "text/x-python",
   "name": "python",
   "nbconvert_exporter": "python",
   "pygments_lexer": "ipython3",
   "version": "3.7.4"
  }
 },
 "nbformat": 4,
 "nbformat_minor": 4
}
