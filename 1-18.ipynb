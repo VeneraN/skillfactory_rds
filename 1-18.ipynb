{
 "cells": [
  {
   "cell_type": "code",
   "execution_count": 1,
   "metadata": {},
   "outputs": [],
   "source": [
    "a = True \n",
    "b = False\n",
    "if (a and b or not a and not b):\n",
    "    print('True')\n",
    "else:print('False')"
   ]
  },
  {
   "cell_type": "code",
   "execution_count": 2,
   "metadata": {},
   "outputs": [],
   "source": [
    "if (\"239\" < \"30\" and 239 > 30):\n",
    "    print('True')\n",
    "else:print('False')"
   ]
  },
  {
   "cell_type": "code",
   "execution_count": 3,
   "metadata": {},
   "outputs": [
    {
     "name": "stdout",
     "output_type": "stream",
     "text": [
      "True\n"
     ]
    }
   ],
   "source": [
    "if (\"5a\"<\"5b\" and 123/2 > 30 or True):\n",
    "    print('True')\n",
    "else:print('False')"
   ]
  },
  {
   "cell_type": "code",
   "execution_count": 4,
   "metadata": {},
   "outputs": [
    {
     "name": "stdout",
     "output_type": "stream",
     "text": [
      "False\n"
     ]
    }
   ],
   "source": [
    "if (False and True or 12<5**2 and \"Python\" > \"Ruby\"):\n",
    "    print('True')\n",
    "else:print('False')"
   ]
  },
  {
   "cell_type": "code",
   "execution_count": 5,
   "metadata": {},
   "outputs": [
    {
     "name": "stdout",
     "output_type": "stream",
     "text": [
      "True\n"
     ]
    }
   ],
   "source": [
    "if (\"Android\" > \"Apple\" or \"Apple\" > \"Android\"):\n",
    "    print('True')\n",
    "else:print('False')"
   ]
  },
  {
   "cell_type": "code",
   "execution_count": 6,
   "metadata": {},
   "outputs": [
    {
     "name": "stdout",
     "output_type": "stream",
     "text": [
      "True\n"
     ]
    }
   ],
   "source": [
    "x = 10 \n",
    "y = 15\n",
    "if (y > x**y - 1000 or \"test\" > \"push\"):\n",
    "    print('True')\n",
    "else:print('False')"
   ]
  },
  {
   "cell_type": "code",
   "execution_count": 7,
   "metadata": {},
   "outputs": [
    {
     "name": "stdout",
     "output_type": "stream",
     "text": [
      "Роза\n",
      "белый\n",
      "Ане понравятся эти цветы\n"
     ]
    }
   ],
   "source": [
    "flower = input()\n",
    "color=input()\n",
    "\n",
    "if flower=='роза' and color=='синий' or color=='белый':\n",
    "    print('Ане понравятся эти цветы')\n",
    "else: print('Аня не фанат таких цветов')"
   ]
  },
  {
   "cell_type": "code",
   "execution_count": 8,
   "metadata": {},
   "outputs": [
    {
     "name": "stdout",
     "output_type": "stream",
     "text": [
      "12\n",
      "1\n",
      "белый\n",
      "Попробуем поискать ещё...\n"
     ]
    }
   ],
   "source": [
    "height = float(input())\n",
    "weight = float(input())\n",
    "color=input()\n",
    "\n",
    "if height >1.70 and weight<80 and color=='красный':\n",
    "    print('Ваша половинка нашлась!')\n",
    "else: print('Попробуем поискать ещё...')"
   ]
  },
  {
   "cell_type": "code",
   "execution_count": 9,
   "metadata": {},
   "outputs": [
    {
     "name": "stdout",
     "output_type": "stream",
     "text": [
      "132121\n",
      "Вова, в этот раз ты не попал\n"
     ]
    }
   ],
   "source": [
    "number = int(input())\n",
    "\n",
    "if number%2==0 or number%5==0 or number%173==0 or number%821==0:\n",
    "    print('Вова, это нужное число')\n",
    "else: print('Вова, в этот раз ты не попал')"
   ]
  },
  {
   "cell_type": "code",
   "execution_count": 10,
   "metadata": {},
   "outputs": [
    {
     "name": "stdout",
     "output_type": "stream",
     "text": [
      "рептилия\n",
      "Python\n"
     ]
    }
   ],
   "source": [
    "fav_word = input()\n",
    "\n",
    "if fav_word=='плюс' or fav_word=='плюсы':\n",
    "    print('C++')\n",
    "elif fav_word=='рубин' or fav_word=='кристалл':\n",
    "    print('Ruby')\n",
    "else: print('Python')"
   ]
  },
  {
   "cell_type": "code",
   "execution_count": 14,
   "metadata": {},
   "outputs": [
    {
     "name": "stdout",
     "output_type": "stream",
     "text": [
      "13\n",
      "38\n",
      "Преподаватель свободен.\n"
     ]
    }
   ],
   "source": [
    "hour=int(input())\n",
    "minute=int(input())\n",
    "\n",
    "if hour<10 or hour>=20:\n",
    "    print('Преподаватель отсутствует.')\n",
    "elif hour<11 and minute<30 or hour>=19 and minute>=30 or hour>=15 and hour<18 or hour>=12 and hour<13:\n",
    "    print('Преподаватель свободен.')\n",
    "elif hour>=13 and hour<14 and minute<40:\n",
    "    print('Преподаватель свободен.')\n",
    "else: print('Преподаватель занят.')"
   ]
  }
 ],
 "metadata": {
  "kernelspec": {
   "display_name": "Python 3",
   "language": "python",
   "name": "python3"
  },
  "language_info": {
   "codemirror_mode": {
    "name": "ipython",
    "version": 3
   },
   "file_extension": ".py",
   "mimetype": "text/x-python",
   "name": "python",
   "nbconvert_exporter": "python",
   "pygments_lexer": "ipython3",
   "version": "3.7.4"
  }
 },
 "nbformat": 4,
 "nbformat_minor": 4
}
